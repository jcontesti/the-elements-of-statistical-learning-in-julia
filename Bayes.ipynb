{
 "cells": [
  {
   "cell_type": "code",
   "execution_count": 13,
   "metadata": {
    "scrolled": true
   },
   "outputs": [],
   "source": [
    "using GaussianMixtures, Distributions, LinearAlgebra, RData, Random"
   ]
  },
  {
   "cell_type": "code",
   "execution_count": 2,
   "metadata": {},
   "outputs": [],
   "source": [
    "# Set a random seed to obtain the same results in all executions\n",
    "Random.seed!(1);"
   ]
  },
  {
   "cell_type": "code",
   "execution_count": 13,
   "metadata": {},
   "outputs": [
    {
     "data": {
      "text/plain": [
       "20×2 Array{Float64,2}:\n",
       " -0.253433    1.74148\n",
       "  0.266693    0.371234\n",
       "  2.09647     1.23336\n",
       " -0.0612727  -0.208679\n",
       "  2.70354     0.596828\n",
       "  2.37721    -1.18641\n",
       "  1.05691    -0.683894\n",
       "  0.578884   -0.0683458\n",
       "  0.624252    0.598738\n",
       "  1.67335    -0.289316\n",
       "  1.19937     0.248409\n",
       " -0.302561    0.945419\n",
       "  0.0572723   2.41973\n",
       "  1.32932     0.819226\n",
       " -0.0793842   1.6138\n",
       "  3.50793     1.05299\n",
       "  1.61392     0.671738\n",
       "  1.00754     1.36831\n",
       " -0.454621    1.08607\n",
       " -1.79802     1.92978"
      ]
     },
     "execution_count": 13,
     "metadata": {},
     "output_type": "execute_result"
    }
   ],
   "source": [
    "# Load Gaussian distributions mixture data\n",
    "mixture = load(\"data/ESL.mixture.rda\", convert=true)\n",
    "\n",
    "# Means of the bivariate Gaussian distributions:\n",
    "# - From 1 to 10 the means belong to the BLUE class\n",
    "# - And from position 11 to 20 the means belong to the ORANGE class\n",
    "gaussian_means = mixture[\"ESL.mixture\"][\"means\"];"
   ]
  },
  {
   "cell_type": "code",
   "execution_count": 4,
   "metadata": {},
   "outputs": [
    {
     "data": {
      "text/plain": [
       "rand_with_gaussian_index (generic function with 1 method)"
      ]
     },
     "execution_count": 4,
     "metadata": {},
     "output_type": "execute_result"
    }
   ],
   "source": [
    "# Currently, GaussianMixtures package doesn't allow to get the index (or the Gaussian distribution name) where the\n",
    "# sample comes from.\n",
    "# For this reason, I copied the code and adapted it: \n",
    "# https://github.com/davidavdav/GaussianMixtures.jl/blob/4c93c34d8b0627b3d8a3088f35a676aa1b356789/src/rand.jl#L48\n",
    "function rand_with_gaussian_index(gmm::GMM, n::Int)\n",
    "    x = Array{Float64}(undef, n, gmm.d)\n",
    "    ## generate indices distriuted according to weights\n",
    "    index::Vector{Int} = mapslices(findall, rand(Multinomial(1, gmm.w), n).!=0,\n",
    "                                   dims=1)[:]\n",
    "    \n",
    "    gmmkind = kind(gmm)\n",
    "    for i=1:gmm.n\n",
    "        ind = findall(index.==i)\n",
    "        nₓ = length(ind)\n",
    "        if gmmkind == :diag\n",
    "            x[ind,:] .= (vec(gmm.μ[i,:]) .+ vec(sqrt.(gmm.Σ[i,:])) .* randn(gmm.d, nₓ))' ## v0.5 arraymageddon\n",
    "        elseif gmmkind == :full\n",
    "            x[ind,:] .= rand(MvNormal(vec(gmm.μ[i,:]), forcesymmetric(covar(gmm.Σ[i]))), nₓ)'\n",
    "        else\n",
    "            error(\"Unknown kind\")\n",
    "        end\n",
    "    end\n",
    "    # Return the index too\n",
    "    x, index\n",
    "end"
   ]
  },
  {
   "cell_type": "code",
   "execution_count": 5,
   "metadata": {},
   "outputs": [],
   "source": [
    "# Create a 20 bivariate Gaussians mixture\n",
    "gaussians = 20\n",
    "dimension = 2\n",
    "gmm = GMM(gaussians, dimension) \n",
    "\n",
    "# Set means\n",
    "gmm.μ = gaussian_means\n",
    "\n",
    "# Set covariances\n",
    "gmm.Σ = fill(1/5, (gaussians, dimension));"
   ]
  },
  {
   "cell_type": "code",
   "execution_count": 10,
   "metadata": {},
   "outputs": [],
   "source": [
    "x_test, y_test = rand_with_gaussian_index(gmm, 10000)\n",
    "# y_test contains the indexes of the Gaussian distributions: \n",
    "# if the index is higher than 10, then the class should be ORANGE (1), BLUE otherwise (0) \n",
    "y_test = y_test .> 10;"
   ]
  },
  {
   "cell_type": "code",
   "execution_count": 11,
   "metadata": {},
   "outputs": [
    {
     "data": {
      "text/plain": [
       "10000-element BitArray{1}:\n",
       " 0\n",
       " 0\n",
       " 1\n",
       " 1\n",
       " 0\n",
       " 0\n",
       " 1\n",
       " 0\n",
       " 0\n",
       " 0\n",
       " 0\n",
       " 0\n",
       " 0\n",
       " ⋮\n",
       " 0\n",
       " 1\n",
       " 0\n",
       " 0\n",
       " 1\n",
       " 1\n",
       " 1\n",
       " 1\n",
       " 1\n",
       " 0\n",
       " 0\n",
       " 1"
      ]
     },
     "execution_count": 11,
     "metadata": {},
     "output_type": "execute_result"
    }
   ],
   "source": [
    "y_test"
   ]
  },
  {
   "cell_type": "code",
   "execution_count": 12,
   "metadata": {},
   "outputs": [
    {
     "data": {
      "text/plain": [
       "10000×2 Array{Float64,2}:\n",
       "  1.80808     0.124657\n",
       "  2.13182    -0.568647\n",
       "  1.44236     0.35093\n",
       " -0.44959     2.65309\n",
       "  1.88738    -1.19788\n",
       "  0.876792    1.50304\n",
       " -0.256277    2.31647\n",
       "  0.389238    0.559785\n",
       "  0.0130878   0.0238688\n",
       "  1.69821    -0.631582\n",
       " -0.420895    1.75088\n",
       "  0.123937    0.600653\n",
       "  0.0276842   0.129026\n",
       "  ⋮          \n",
       "  0.0745085  -0.336263\n",
       "  0.0588848   2.02397\n",
       " -0.147954    2.35596\n",
       "  0.670796   -0.438492\n",
       "  1.26004     0.607064\n",
       "  1.19855     0.082453\n",
       " -0.305228    1.03908\n",
       "  3.57135     0.737773\n",
       " -1.17207     0.455179\n",
       "  1.29536    -0.467395\n",
       "  3.19122     1.21813\n",
       "  0.904396   -0.0796924"
      ]
     },
     "execution_count": 12,
     "metadata": {},
     "output_type": "execute_result"
    }
   ],
   "source": [
    "x_test"
   ]
  },
  {
   "cell_type": "code",
   "execution_count": 2,
   "metadata": {},
   "outputs": [
    {
     "data": {
      "text/plain": [
       "Dict{String,Any} with 1 entry:\n",
       "  \"ESL.mixture\" => DictoVec{Any}(\"x\"=>[2.52609 0.32105; 0.366954 0.0314621; … ;…"
      ]
     },
     "execution_count": 2,
     "metadata": {},
     "output_type": "execute_result"
    }
   ],
   "source": [
    "# New try using data from mixture.rda\n",
    "\n",
    "mixture = load(\"data/ESL.mixture.rda\", convert=true)"
   ]
  },
  {
   "cell_type": "code",
   "execution_count": 3,
   "metadata": {},
   "outputs": [],
   "source": [
    "\n",
    "\n",
    "marginal = mixture[\"ESL.mixture\"][\"marginal\"]\n",
    "prob = mixture[\"ESL.mixture\"][\"prob\"];"
   ]
  },
  {
   "cell_type": "code",
   "execution_count": 30,
   "metadata": {},
   "outputs": [
    {
     "data": {
      "text/plain": [
       "0.2101192033010554"
      ]
     },
     "execution_count": 30,
     "metadata": {},
     "output_type": "execute_result"
    }
   ],
   "source": [
    "# bayes.error<-sum(marginal*(prob*I(prob<0.5)+(1-prob)*I(prob>=.5)))\n",
    "\n",
    "error = dot(marginal, prob .* Int.(prob .< 0.5) + (1 .- prob) .* Int.(prob .>= 0.5))"
   ]
  },
  {
   "cell_type": "code",
   "execution_count": null,
   "metadata": {},
   "outputs": [],
   "source": []
  }
 ],
 "metadata": {
  "kernelspec": {
   "display_name": "Julia 1.5.2",
   "language": "julia",
   "name": "julia-1.5"
  },
  "language_info": {
   "file_extension": ".jl",
   "mimetype": "application/julia",
   "name": "julia",
   "version": "1.5.2"
  }
 },
 "nbformat": 4,
 "nbformat_minor": 4
}
