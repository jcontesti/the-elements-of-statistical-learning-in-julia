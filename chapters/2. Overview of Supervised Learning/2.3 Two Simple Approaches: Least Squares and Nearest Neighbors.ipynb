{
 "cells": [
  {
   "cell_type": "markdown",
   "metadata": {},
   "source": [
    "# [The Elements of Statistical Learning in Julia](https://github.com/jcontesti/the-elements-of-statistical-learning-in-julia)"
   ]
  },
  {
   "cell_type": "markdown",
   "metadata": {},
   "source": [
    "# Chapter: 2.3 Tow Simple Approaches: Least Squares and Nearest Neighbors"
   ]
  },
  {
   "cell_type": "markdown",
   "metadata": {},
   "source": [
    "## Objectives"
   ]
  },
  {
   "cell_type": "markdown",
   "metadata": {},
   "source": [
    "1. Understanding of the basics of Linear Models and Least Squares.\n",
    "2. Complete a simple classification example using Least Squares and Nearest Neighbors."
   ]
  },
  {
   "cell_type": "markdown",
   "metadata": {},
   "source": [
    "## Source code"
   ]
  },
  {
   "cell_type": "markdown",
   "metadata": {},
   "source": [
    "### Classification example with linear regression"
   ]
  },
  {
   "cell_type": "code",
   "execution_count": null,
   "metadata": {
    "scrolled": true
   },
   "outputs": [],
   "source": [
    "include(\"../shared/GaussianMixture.jl\")\n",
    "\n",
    "using LinearAlgebra, Plots, RData, Statistics\n",
    "\n",
    "# Use PyPlot as a backend for Plots\n",
    "pyplot();\n",
    "\n",
    "training_palette = [:lightblue, :orange];"
   ]
  },
  {
   "cell_type": "code",
   "execution_count": null,
   "metadata": {},
   "outputs": [],
   "source": [
    "# Load Gaussian distributions mixture data\n",
    "mixture = load(\"../../data/ESL.mixture.rda\", convert=true)\n",
    "\n",
    "# Load traininig data\n",
    "X = mixture[\"ESL.mixture\"][\"x\"]\n",
    "Y = mixture[\"ESL.mixture\"][\"y\"];"
   ]
  },
  {
   "cell_type": "code",
   "execution_count": null,
   "metadata": {},
   "outputs": [],
   "source": [
    "# Add a column with ones\n",
    "X = hcat(ones(size(X, 1)), X);"
   ]
  },
  {
   "cell_type": "code",
   "execution_count": null,
   "metadata": {
    "scrolled": false
   },
   "outputs": [],
   "source": [
    "# Compute β using the unique solution to the normal equation \n",
    "β = (X' * X)^-1 * X' * Y"
   ]
  },
  {
   "cell_type": "code",
   "execution_count": null,
   "metadata": {
    "scrolled": false
   },
   "outputs": [],
   "source": [
    "# Declare the function that will compute the linear model\n",
    "Ŷ(x1, x2) = β[1] + x1 * β[2] + x2 * β[3]\n",
    "\n",
    "plot_gaussian_scatter(X, Y, Ŷ)"
   ]
  },
  {
   "cell_type": "markdown",
   "metadata": {},
   "source": [
    "### Classification example with Nearest Neighbors"
   ]
  },
  {
   "cell_type": "code",
   "execution_count": null,
   "metadata": {},
   "outputs": [],
   "source": [
    "using NearestNeighbors"
   ]
  },
  {
   "cell_type": "code",
   "execution_count": null,
   "metadata": {},
   "outputs": [],
   "source": [
    "data = mixture[\"ESL.mixture\"][\"x\"]'\n",
    "\n",
    "k = 15\n",
    "\n",
    "kdtree = KDTree(data);"
   ]
  },
  {
   "cell_type": "code",
   "execution_count": null,
   "metadata": {},
   "outputs": [],
   "source": [
    "Ŷ(x1, x2) = (1/k) * sum(Y[knn(kdtree, [x1, x2], k, true)[1]])"
   ]
  },
  {
   "cell_type": "code",
   "execution_count": null,
   "metadata": {},
   "outputs": [],
   "source": [
    "plot_gaussian_scatter(X, Y, Ŷ)"
   ]
  },
  {
   "cell_type": "code",
   "execution_count": null,
   "metadata": {},
   "outputs": [],
   "source": [
    "k = 1\n",
    "plot_gaussian_scatter(X, Y, Ŷ)"
   ]
  }
 ],
 "metadata": {
  "kernelspec": {
   "display_name": "Julia 1.4.1",
   "language": "julia",
   "name": "julia-1.4"
  },
  "language_info": {
   "file_extension": ".jl",
   "mimetype": "application/julia",
   "name": "julia",
   "version": "1.4.1"
  }
 },
 "nbformat": 4,
 "nbformat_minor": 4
}
